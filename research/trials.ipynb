{
 "cells": [
  {
   "cell_type": "code",
   "execution_count": 1,
   "metadata": {},
   "outputs": [],
   "source": [
    "import gdown"
   ]
  },
  {
   "cell_type": "code",
   "execution_count": 2,
   "metadata": {},
   "outputs": [],
   "source": [
    "url=\"https://drive.google.com/file/d/1Bic8dk_wtjUsP9tpXxo5CGrPNkuhIiL8/view?usp=sharing\""
   ]
  },
  {
   "cell_type": "code",
   "execution_count": 6,
   "metadata": {},
   "outputs": [
    {
     "data": {
      "text/plain": [
       "'1Bic8dk_wtjUsP9tpXxo5CGrPNkuhIiL8'"
      ]
     },
     "execution_count": 6,
     "metadata": {},
     "output_type": "execute_result"
    }
   ],
   "source": [
    "file_id=url.split(\"/\")[-2]\n",
    "file_id"
   ]
  },
  {
   "cell_type": "code",
   "execution_count": 7,
   "metadata": {},
   "outputs": [
    {
     "name": "stderr",
     "output_type": "stream",
     "text": [
      "Downloading...\n",
      "From (original): https://drive.google.com/uc?/export=download&id=1Bic8dk_wtjUsP9tpXxo5CGrPNkuhIiL8\n",
      "From (redirected): https://drive.google.com/uc?%2Fexport=download&id=1Bic8dk_wtjUsP9tpXxo5CGrPNkuhIiL8&confirm=t&uuid=35947421-6110-4526-b056-faa7d56c481e\n",
      "To: d:\\kidney_disease_classification_using-_DVC_MLflow\\research\\kidney_dataset.zip\n",
      "100%|██████████| 74.6M/74.6M [00:10<00:00, 7.22MB/s]\n"
     ]
    },
    {
     "data": {
      "text/plain": [
       "'kidney_dataset.zip'"
      ]
     },
     "execution_count": 7,
     "metadata": {},
     "output_type": "execute_result"
    }
   ],
   "source": [
    "prefix ='https://drive.google.com/uc?/export=download&id='\n",
    "gdown.download(prefix+file_id, \"kidney_dataset.zip\")"
   ]
  }
 ],
 "metadata": {
  "kernelspec": {
   "display_name": "kidney",
   "language": "python",
   "name": "python3"
  },
  "language_info": {
   "codemirror_mode": {
    "name": "ipython",
    "version": 3
   },
   "file_extension": ".py",
   "mimetype": "text/x-python",
   "name": "python",
   "nbconvert_exporter": "python",
   "pygments_lexer": "ipython3",
   "version": "3.8.18"
  }
 },
 "nbformat": 4,
 "nbformat_minor": 2
}
